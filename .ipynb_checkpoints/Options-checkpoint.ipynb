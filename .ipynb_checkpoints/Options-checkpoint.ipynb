{
 "cells": [
  {
   "cell_type": "markdown",
   "metadata": {},
   "source": [
    "# Predicting Option Prices"
   ]
  },
  {
   "cell_type": "markdown",
   "metadata": {},
   "source": [
    "Directory <br>\n",
    "1.0 [The Black Scholes Model](#1)\n",
    "- 1.1 [The Setup](#2)\n",
    "- 1.2 [Calculating Implied Volatility](#3)\n",
    "- 1.3 [Predicting and Evaluating](#4)\n",
    "- 1.4 [Further Analyais](#5)\n",
    "2.0 [Monte Carlo Methods](#6)\n",
    "- 2.1 [Implementation](#7)\n",
    "- 2.2 [Further Analysis](#8)"
   ]
  },
  {
   "cell_type": "code",
   "execution_count": 1,
   "metadata": {},
   "outputs": [],
   "source": [
    "import numpy as np\n",
    "import pandas as pd\n",
    "from math import log, exp, sqrt\n",
    "from scipy.stats import norm\n",
    "from datetime import datetime, date\n",
    "import matplotlib.pyplot as plt\n",
    "import seaborn as sns"
   ]
  },
  {
   "cell_type": "markdown",
   "metadata": {},
   "source": [
    "## The Black Scholes Model <a name=\"1\"></a>"
   ]
  },
  {
   "cell_type": "markdown",
   "metadata": {},
   "source": [
    "The price of a call option is given by: <br>\n",
    ">$C_0 = S_0 N(d_1) - Ee^{-rT}N(d_2)$ <br>\n",
    "\n",
    "where... <br>\n",
    ">$S_0$ = current stock price, and $E$ = exercise price <br>\n",
    "$N(d_i) = P($standard normal random variable $\\leq d_i)\\ $  i.e. normal CDF <br>\n",
    "$d_1 = \\frac{ln(S_0/E) + (r + \\sigma^2 / 2)T}{\\sigma \\sqrt{T}}$, \n",
    "$d_2 = d_1 - \\sigma \\sqrt{T}$ <br>\n",
    "$\\sigma$ = std. of the stock's annual return (continuously compounded) <br>\n",
    "$r$ = annual risk free rate (continuously compounded)<br>\n",
    "$T$ = years to maturity <br>"
   ]
  },
  {
   "cell_type": "markdown",
   "metadata": {},
   "source": [
    "This is the solution to the Black Scholes stochastic differential equation: $ $ <br>\n",
    ">$dS_t = rS_tdt + \\sigma S_t d Z_t$ <br>\n",
    "\n",
    "where $Z(t)$ = Brownian Motion"
   ]
  },
  {
   "cell_type": "markdown",
   "metadata": {},
   "source": [
    "**Key Assumptions**:\n",
    "1. The option is European - it cannot be exercised before expiration\n",
    "2. The underlying asset does not pay a dividend\n",
    "3. Markets are efficient and no arbitrage opportunities exist\n",
    "4. The returns on the underlying asset are normally distributed\n",
    "5. The risk-free rate and volatility are constant"
   ]
  },
  {
   "cell_type": "markdown",
   "metadata": {},
   "source": [
    "## Setup <a name=\"2\"></a>"
   ]
  },
  {
   "cell_type": "code",
   "execution_count": 2,
   "metadata": {},
   "outputs": [],
   "source": [
    "N = norm.cdf\n",
    "n = norm.pdf\n",
    "\n",
    "def call(S, E, r, sigma, T): \n",
    "    d1 = (log(S / E) + (r + sigma**2 / 2) * T) / (sigma * sqrt(T))\n",
    "    d2 = d1 - sigma * sqrt(T)\n",
    "    \n",
    "    call = S * N(d1) - E * exp(-r*T) * N(d2)\n",
    "    return round(call, 8)\n",
    "\n",
    "def put(S, E, r, sigma, T):\n",
    "    d1 = (log(S / E) + (r + sigma**2 / 2) * T) / (sigma * sqrt(T))\n",
    "    d2 = d1 - sigma * sqrt(T)\n",
    "    \n",
    "    put = E * exp(-r*T) * (1 - N(d2)) - S * (1 - N(d1))\n",
    "    return round(put, 8)"
   ]
  },
  {
   "cell_type": "code",
   "execution_count": 3,
   "metadata": {},
   "outputs": [],
   "source": [
    "# Combine the above with an additional parameter\n",
    "def price(S, E, r, sigma, T, option):\n",
    "    d1 = (log(S / E) + (r + sigma**2 / 2) * T) / (sigma * sqrt(T))\n",
    "    d2 = d1 - sigma * sqrt(T)\n",
    "    \n",
    "    if option == 'c':\n",
    "        price = S * N(d1) - E * exp(-r*T) * N(d2)\n",
    "    else:\n",
    "        price = E * exp(-r*T) * (1 - N(d2)) - S * (1 - N(d1))\n",
    "    return round(price, 8)"
   ]
  },
  {
   "cell_type": "code",
   "execution_count": 4,
   "metadata": {},
   "outputs": [
    {
     "data": {
      "text/plain": [
       "11399.73195256"
      ]
     },
     "execution_count": 4,
     "metadata": {},
     "output_type": "execute_result"
    }
   ],
   "source": [
    "# Test the function\n",
    "S = 36400\n",
    "E = 30000\n",
    "r = 0.05\n",
    "sigma = 0.53\n",
    "T = 1\n",
    "price(S, E, r, sigma, T, 'c')"
   ]
  },
  {
   "cell_type": "code",
   "execution_count": 5,
   "metadata": {},
   "outputs": [
    {
     "data": {
      "text/html": [
       "<div>\n",
       "<style scoped>\n",
       "    .dataframe tbody tr th:only-of-type {\n",
       "        vertical-align: middle;\n",
       "    }\n",
       "\n",
       "    .dataframe tbody tr th {\n",
       "        vertical-align: top;\n",
       "    }\n",
       "\n",
       "    .dataframe thead th {\n",
       "        text-align: right;\n",
       "    }\n",
       "</style>\n",
       "<table border=\"1\" class=\"dataframe\">\n",
       "  <thead>\n",
       "    <tr style=\"text-align: right;\">\n",
       "      <th></th>\n",
       "      <th>Date</th>\n",
       "      <th>Open</th>\n",
       "      <th>High</th>\n",
       "      <th>Low</th>\n",
       "      <th>Close</th>\n",
       "      <th>Adj Close</th>\n",
       "      <th>Volume</th>\n",
       "    </tr>\n",
       "  </thead>\n",
       "  <tbody>\n",
       "    <tr>\n",
       "      <th>0</th>\n",
       "      <td>2020-02-19</td>\n",
       "      <td>184.699997</td>\n",
       "      <td>188.955994</td>\n",
       "      <td>180.203995</td>\n",
       "      <td>183.483994</td>\n",
       "      <td>183.483994</td>\n",
       "      <td>127115000</td>\n",
       "    </tr>\n",
       "    <tr>\n",
       "      <th>1</th>\n",
       "      <td>2020-02-20</td>\n",
       "      <td>182.389999</td>\n",
       "      <td>182.399994</td>\n",
       "      <td>171.988007</td>\n",
       "      <td>179.882004</td>\n",
       "      <td>179.882004</td>\n",
       "      <td>88174500</td>\n",
       "    </tr>\n",
       "    <tr>\n",
       "      <th>2</th>\n",
       "      <td>2020-02-21</td>\n",
       "      <td>181.395996</td>\n",
       "      <td>182.612000</td>\n",
       "      <td>176.089996</td>\n",
       "      <td>180.199997</td>\n",
       "      <td>180.199997</td>\n",
       "      <td>71574000</td>\n",
       "    </tr>\n",
       "    <tr>\n",
       "      <th>3</th>\n",
       "      <td>2020-02-24</td>\n",
       "      <td>167.800003</td>\n",
       "      <td>172.699997</td>\n",
       "      <td>164.440002</td>\n",
       "      <td>166.757996</td>\n",
       "      <td>166.757996</td>\n",
       "      <td>75961000</td>\n",
       "    </tr>\n",
       "    <tr>\n",
       "      <th>4</th>\n",
       "      <td>2020-02-25</td>\n",
       "      <td>169.800003</td>\n",
       "      <td>171.320007</td>\n",
       "      <td>157.399994</td>\n",
       "      <td>159.981995</td>\n",
       "      <td>159.981995</td>\n",
       "      <td>86452500</td>\n",
       "    </tr>\n",
       "    <tr>\n",
       "      <th>...</th>\n",
       "      <td>...</td>\n",
       "      <td>...</td>\n",
       "      <td>...</td>\n",
       "      <td>...</td>\n",
       "      <td>...</td>\n",
       "      <td>...</td>\n",
       "      <td>...</td>\n",
       "    </tr>\n",
       "    <tr>\n",
       "      <th>249</th>\n",
       "      <td>2021-02-12</td>\n",
       "      <td>801.260010</td>\n",
       "      <td>817.330017</td>\n",
       "      <td>785.330017</td>\n",
       "      <td>816.119995</td>\n",
       "      <td>816.119995</td>\n",
       "      <td>23701700</td>\n",
       "    </tr>\n",
       "    <tr>\n",
       "      <th>250</th>\n",
       "      <td>2021-02-16</td>\n",
       "      <td>818.000000</td>\n",
       "      <td>821.000000</td>\n",
       "      <td>792.440002</td>\n",
       "      <td>796.219971</td>\n",
       "      <td>796.219971</td>\n",
       "      <td>19686700</td>\n",
       "    </tr>\n",
       "    <tr>\n",
       "      <th>251</th>\n",
       "      <td>2021-02-17</td>\n",
       "      <td>779.090027</td>\n",
       "      <td>799.840027</td>\n",
       "      <td>762.010010</td>\n",
       "      <td>798.150024</td>\n",
       "      <td>798.150024</td>\n",
       "      <td>25996500</td>\n",
       "    </tr>\n",
       "    <tr>\n",
       "      <th>252</th>\n",
       "      <td>2021-02-18</td>\n",
       "      <td>780.900024</td>\n",
       "      <td>794.690002</td>\n",
       "      <td>776.270020</td>\n",
       "      <td>787.380005</td>\n",
       "      <td>787.380005</td>\n",
       "      <td>17897000</td>\n",
       "    </tr>\n",
       "    <tr>\n",
       "      <th>253</th>\n",
       "      <td>2021-02-19</td>\n",
       "      <td>795.000000</td>\n",
       "      <td>796.789917</td>\n",
       "      <td>777.390015</td>\n",
       "      <td>781.299988</td>\n",
       "      <td>781.299988</td>\n",
       "      <td>18634186</td>\n",
       "    </tr>\n",
       "  </tbody>\n",
       "</table>\n",
       "<p>254 rows × 7 columns</p>\n",
       "</div>"
      ],
      "text/plain": [
       "           Date        Open        High         Low       Close   Adj Close  \\\n",
       "0    2020-02-19  184.699997  188.955994  180.203995  183.483994  183.483994   \n",
       "1    2020-02-20  182.389999  182.399994  171.988007  179.882004  179.882004   \n",
       "2    2020-02-21  181.395996  182.612000  176.089996  180.199997  180.199997   \n",
       "3    2020-02-24  167.800003  172.699997  164.440002  166.757996  166.757996   \n",
       "4    2020-02-25  169.800003  171.320007  157.399994  159.981995  159.981995   \n",
       "..          ...         ...         ...         ...         ...         ...   \n",
       "249  2021-02-12  801.260010  817.330017  785.330017  816.119995  816.119995   \n",
       "250  2021-02-16  818.000000  821.000000  792.440002  796.219971  796.219971   \n",
       "251  2021-02-17  779.090027  799.840027  762.010010  798.150024  798.150024   \n",
       "252  2021-02-18  780.900024  794.690002  776.270020  787.380005  787.380005   \n",
       "253  2021-02-19  795.000000  796.789917  777.390015  781.299988  781.299988   \n",
       "\n",
       "        Volume  \n",
       "0    127115000  \n",
       "1     88174500  \n",
       "2     71574000  \n",
       "3     75961000  \n",
       "4     86452500  \n",
       "..         ...  \n",
       "249   23701700  \n",
       "250   19686700  \n",
       "251   25996500  \n",
       "252   17897000  \n",
       "253   18634186  \n",
       "\n",
       "[254 rows x 7 columns]"
      ]
     },
     "execution_count": 5,
     "metadata": {},
     "output_type": "execute_result"
    }
   ],
   "source": [
    "# load data (source: https://finance.yahoo.com/quote/TSLA/history?p=TSLA)\n",
    "data = pd.read_csv(r'C:\\Users\\Summe\\Code\\data\\TSLA.csv')\n",
    "data"
   ]
  },
  {
   "cell_type": "code",
   "execution_count": 6,
   "metadata": {},
   "outputs": [
    {
     "name": "stdout",
     "output_type": "stream",
     "text": [
      "<class 'pandas.core.frame.DataFrame'>\n",
      "RangeIndex: 254 entries, 0 to 253\n",
      "Data columns (total 7 columns):\n",
      " #   Column     Non-Null Count  Dtype  \n",
      "---  ------     --------------  -----  \n",
      " 0   Date       254 non-null    object \n",
      " 1   Open       254 non-null    float64\n",
      " 2   High       254 non-null    float64\n",
      " 3   Low        254 non-null    float64\n",
      " 4   Close      254 non-null    float64\n",
      " 5   Adj Close  254 non-null    float64\n",
      " 6   Volume     254 non-null    int64  \n",
      "dtypes: float64(5), int64(1), object(1)\n",
      "memory usage: 14.0+ KB\n"
     ]
    }
   ],
   "source": [
    "# check for NAs\n",
    "data.info()"
   ]
  },
  {
   "cell_type": "markdown",
   "metadata": {},
   "source": [
    "> Disclaimer: Needless to say, Tesla's options are not settled European style. Let's pretend they are for the time being though... <br>\n",
    "I was unable to find data on European options, and when I eventually found some, I was unable to find the money or willingness to pay for it."
   ]
  },
  {
   "cell_type": "markdown",
   "metadata": {},
   "source": [
    "## Calculating Implied Volatility <a name=\"3\"></a>"
   ]
  },
  {
   "cell_type": "markdown",
   "metadata": {},
   "source": [
    "**Method 1**: Newton's method for root approximation\n",
    "- iterate over values of $\\sigma$ \n",
    "- calculate slope of the tangent line evaluated at each iteration point $ $\n",
    "- repeat until the approximation is close enough to the true root $ $ "
   ]
  },
  {
   "cell_type": "code",
   "execution_count": 7,
   "metadata": {},
   "outputs": [],
   "source": [
    "# Helper function: vega, an option greek\n",
    "# Vega measures price sensitivity to changes in iv (partial derivative of C w.r.t. sigma)\n",
    "def vega(S, E, r, sigma, T):\n",
    "    d1 = (log(S / E) + (r + sigma ** 2 / 2) * T) / (sigma * sqrt(T))\n",
    "    deriv = S * n(d1) * np.sqrt(T)\n",
    "    return deriv "
   ]
  },
  {
   "cell_type": "code",
   "execution_count": 8,
   "metadata": {},
   "outputs": [],
   "source": [
    "# Implement Newton's method\n",
    "def iv(targetVal, S, E, r, T):\n",
    "    sigma = 0.5      # starting test value\n",
    "    EPSILON = 1.0e-5 # precision tolerance\n",
    "    MAX_ITER = 200    \n",
    "    \n",
    "    for i in range(0, MAX_ITER):\n",
    "        price = call(S, E, r, sigma, T)\n",
    "        v = vega(S, E, r, sigma, T)    # f'(x)\n",
    "        fVal = price - targetVal       # f(x)\n",
    "        if (abs(fVal) < EPSILON):\n",
    "            return sigma # satisfactory estimate found\n",
    "        sigma = sigma - fVal/v      # x1 = x0 - f(x0) / f'(x0)\n",
    "    return sigma         # satisfactory estimate not found within MAX_ITER"
   ]
  },
  {
   "cell_type": "code",
   "execution_count": 9,
   "metadata": {},
   "outputs": [
    {
     "data": {
      "text/plain": [
       "0.5300000000002799"
      ]
     },
     "execution_count": 9,
     "metadata": {},
     "output_type": "execute_result"
    }
   ],
   "source": [
    "# Test the function\n",
    "targetVal = call(S, E, r, sigma, T)\n",
    "implied_vol = iv(targetVal, S, E, r, T)\n",
    "implied_vol"
   ]
  },
  {
   "cell_type": "markdown",
   "metadata": {},
   "source": [
    ">With large datasets, method 1 can be computationally expensive. <br>\n",
    "Try method 2: calculating stock returns and taking standard deviation directly"
   ]
  },
  {
   "cell_type": "code",
   "execution_count": 10,
   "metadata": {},
   "outputs": [
    {
     "data": {
      "text/html": [
       "<div>\n",
       "<style scoped>\n",
       "    .dataframe tbody tr th:only-of-type {\n",
       "        vertical-align: middle;\n",
       "    }\n",
       "\n",
       "    .dataframe tbody tr th {\n",
       "        vertical-align: top;\n",
       "    }\n",
       "\n",
       "    .dataframe thead th {\n",
       "        text-align: right;\n",
       "    }\n",
       "</style>\n",
       "<table border=\"1\" class=\"dataframe\">\n",
       "  <thead>\n",
       "    <tr style=\"text-align: right;\">\n",
       "      <th></th>\n",
       "      <th>Open</th>\n",
       "      <th>High</th>\n",
       "      <th>Low</th>\n",
       "      <th>Close</th>\n",
       "      <th>Adj Close</th>\n",
       "      <th>Volume</th>\n",
       "      <th>Return</th>\n",
       "    </tr>\n",
       "  </thead>\n",
       "  <tbody>\n",
       "    <tr>\n",
       "      <th>count</th>\n",
       "      <td>254.000000</td>\n",
       "      <td>254.000000</td>\n",
       "      <td>254.000000</td>\n",
       "      <td>254.000000</td>\n",
       "      <td>254.000000</td>\n",
       "      <td>2.540000e+02</td>\n",
       "      <td>253.000000</td>\n",
       "    </tr>\n",
       "    <tr>\n",
       "      <th>mean</th>\n",
       "      <td>380.116466</td>\n",
       "      <td>389.655890</td>\n",
       "      <td>369.957252</td>\n",
       "      <td>380.861637</td>\n",
       "      <td>380.861637</td>\n",
       "      <td>6.467769e+07</td>\n",
       "      <td>0.007157</td>\n",
       "    </tr>\n",
       "    <tr>\n",
       "      <th>std</th>\n",
       "      <td>232.561731</td>\n",
       "      <td>236.803456</td>\n",
       "      <td>228.210010</td>\n",
       "      <td>233.493858</td>\n",
       "      <td>233.493858</td>\n",
       "      <td>3.368546e+07</td>\n",
       "      <td>0.053106</td>\n",
       "    </tr>\n",
       "    <tr>\n",
       "      <th>min</th>\n",
       "      <td>74.940002</td>\n",
       "      <td>80.972000</td>\n",
       "      <td>70.101997</td>\n",
       "      <td>72.244003</td>\n",
       "      <td>72.244003</td>\n",
       "      <td>1.515770e+07</td>\n",
       "      <td>-0.210628</td>\n",
       "    </tr>\n",
       "    <tr>\n",
       "      <th>25%</th>\n",
       "      <td>165.891998</td>\n",
       "      <td>167.414501</td>\n",
       "      <td>161.790005</td>\n",
       "      <td>163.924504</td>\n",
       "      <td>163.924504</td>\n",
       "      <td>3.878098e+07</td>\n",
       "      <td>-0.020635</td>\n",
       "    </tr>\n",
       "    <tr>\n",
       "      <th>50%</th>\n",
       "      <td>356.300003</td>\n",
       "      <td>369.085999</td>\n",
       "      <td>338.038010</td>\n",
       "      <td>366.703995</td>\n",
       "      <td>366.703995</td>\n",
       "      <td>5.977230e+07</td>\n",
       "      <td>0.003716</td>\n",
       "    </tr>\n",
       "    <tr>\n",
       "      <th>75%</th>\n",
       "      <td>474.284996</td>\n",
       "      <td>499.105011</td>\n",
       "      <td>446.387504</td>\n",
       "      <td>483.742508</td>\n",
       "      <td>483.742508</td>\n",
       "      <td>8.484608e+07</td>\n",
       "      <td>0.034152</td>\n",
       "    </tr>\n",
       "    <tr>\n",
       "      <th>max</th>\n",
       "      <td>891.380005</td>\n",
       "      <td>900.400024</td>\n",
       "      <td>871.599976</td>\n",
       "      <td>883.090027</td>\n",
       "      <td>883.090027</td>\n",
       "      <td>2.221262e+08</td>\n",
       "      <td>0.183877</td>\n",
       "    </tr>\n",
       "  </tbody>\n",
       "</table>\n",
       "</div>"
      ],
      "text/plain": [
       "             Open        High         Low       Close   Adj Close  \\\n",
       "count  254.000000  254.000000  254.000000  254.000000  254.000000   \n",
       "mean   380.116466  389.655890  369.957252  380.861637  380.861637   \n",
       "std    232.561731  236.803456  228.210010  233.493858  233.493858   \n",
       "min     74.940002   80.972000   70.101997   72.244003   72.244003   \n",
       "25%    165.891998  167.414501  161.790005  163.924504  163.924504   \n",
       "50%    356.300003  369.085999  338.038010  366.703995  366.703995   \n",
       "75%    474.284996  499.105011  446.387504  483.742508  483.742508   \n",
       "max    891.380005  900.400024  871.599976  883.090027  883.090027   \n",
       "\n",
       "             Volume      Return  \n",
       "count  2.540000e+02  253.000000  \n",
       "mean   6.467769e+07    0.007157  \n",
       "std    3.368546e+07    0.053106  \n",
       "min    1.515770e+07   -0.210628  \n",
       "25%    3.878098e+07   -0.020635  \n",
       "50%    5.977230e+07    0.003716  \n",
       "75%    8.484608e+07    0.034152  \n",
       "max    2.221262e+08    0.183877  "
      ]
     },
     "execution_count": 10,
     "metadata": {},
     "output_type": "execute_result"
    }
   ],
   "source": [
    "# Calculate returns\n",
    "data = data.assign(Return = (data.Close - data.Close.shift(1)) / data.Close.shift(1))\n",
    "data.describe()"
   ]
  },
  {
   "cell_type": "code",
   "execution_count": 11,
   "metadata": {},
   "outputs": [
    {
     "data": {
      "image/png": "[encoded data removed]",
      "text/plain": [
       "<Figure size 432x288 with 1 Axes>"
      ]
     },
     "metadata": {
      "needs_background": "light"
     },
     "output_type": "display_data"
    }
   ],
   "source": [
    "# Plot distribution of returns to gauge accuracy of the Normal returns assumption\n",
    "sns.histplot(data.Return)\n",
    "plt.show()"
   ]
  },
  {
   "cell_type": "code",
   "execution_count": 12,
   "metadata": {},
   "outputs": [
    {
     "data": {
      "text/plain": [
       "0.8430304241811181"
      ]
     },
     "execution_count": 12,
     "metadata": {},
     "output_type": "execute_result"
    }
   ],
   "source": [
    "# Calculate iv\n",
    "tradingDays = 252 # source: https://en.wikipedia.org/wiki/Trading_day#2021\n",
    "iv = np.sqrt(tradingDays) * data['Return'].std()\n",
    "iv"
   ]
  },
  {
   "cell_type": "markdown",
   "metadata": {},
   "source": [
    "## Predicting and Evaluating <a name=\"4\"></a>"
   ]
  },
  {
   "cell_type": "code",
   "execution_count": 13,
   "metadata": {},
   "outputs": [
    {
     "data": {
      "text/html": [
       "<div>\n",
       "<style scoped>\n",
       "    .dataframe tbody tr th:only-of-type {\n",
       "        vertical-align: middle;\n",
       "    }\n",
       "\n",
       "    .dataframe tbody tr th {\n",
       "        vertical-align: top;\n",
       "    }\n",
       "\n",
       "    .dataframe thead th {\n",
       "        text-align: right;\n",
       "    }\n",
       "</style>\n",
       "<table border=\"1\" class=\"dataframe\">\n",
       "  <thead>\n",
       "    <tr style=\"text-align: right;\">\n",
       "      <th></th>\n",
       "      <th>Strike</th>\n",
       "      <th>Last Price</th>\n",
       "      <th>Bid</th>\n",
       "      <th>Ask</th>\n",
       "      <th>Change</th>\n",
       "      <th>Volume</th>\n",
       "      <th>Open Interest</th>\n",
       "    </tr>\n",
       "  </thead>\n",
       "  <tbody>\n",
       "    <tr>\n",
       "      <th>count</th>\n",
       "      <td>189.000000</td>\n",
       "      <td>189.000000</td>\n",
       "      <td>189.000000</td>\n",
       "      <td>189.000000</td>\n",
       "      <td>189.000000</td>\n",
       "      <td>189.000000</td>\n",
       "      <td>189.000000</td>\n",
       "    </tr>\n",
       "    <tr>\n",
       "      <th>mean</th>\n",
       "      <td>917.764550</td>\n",
       "      <td>62.367354</td>\n",
       "      <td>61.059683</td>\n",
       "      <td>62.057566</td>\n",
       "      <td>-3.236243</td>\n",
       "      <td>711.338624</td>\n",
       "      <td>504.608466</td>\n",
       "    </tr>\n",
       "    <tr>\n",
       "      <th>std</th>\n",
       "      <td>314.265115</td>\n",
       "      <td>122.323555</td>\n",
       "      <td>119.737958</td>\n",
       "      <td>120.766869</td>\n",
       "      <td>4.813903</td>\n",
       "      <td>1893.182520</td>\n",
       "      <td>903.999562</td>\n",
       "    </tr>\n",
       "    <tr>\n",
       "      <th>min</th>\n",
       "      <td>200.000000</td>\n",
       "      <td>0.010000</td>\n",
       "      <td>0.000000</td>\n",
       "      <td>0.020000</td>\n",
       "      <td>-22.730000</td>\n",
       "      <td>1.000000</td>\n",
       "      <td>1.000000</td>\n",
       "    </tr>\n",
       "    <tr>\n",
       "      <th>25%</th>\n",
       "      <td>747.500000</td>\n",
       "      <td>0.100000</td>\n",
       "      <td>0.050000</td>\n",
       "      <td>0.150000</td>\n",
       "      <td>-6.550000</td>\n",
       "      <td>12.000000</td>\n",
       "      <td>85.000000</td>\n",
       "    </tr>\n",
       "    <tr>\n",
       "      <th>50%</th>\n",
       "      <td>865.000000</td>\n",
       "      <td>1.560000</td>\n",
       "      <td>1.450000</td>\n",
       "      <td>1.630000</td>\n",
       "      <td>-1.020000</td>\n",
       "      <td>128.000000</td>\n",
       "      <td>211.000000</td>\n",
       "    </tr>\n",
       "    <tr>\n",
       "      <th>75%</th>\n",
       "      <td>1110.000000</td>\n",
       "      <td>40.770000</td>\n",
       "      <td>41.550000</td>\n",
       "      <td>43.300000</td>\n",
       "      <td>-0.050000</td>\n",
       "      <td>518.000000</td>\n",
       "      <td>510.000000</td>\n",
       "    </tr>\n",
       "    <tr>\n",
       "      <th>max</th>\n",
       "      <td>1700.000000</td>\n",
       "      <td>581.900000</td>\n",
       "      <td>579.850000</td>\n",
       "      <td>582.850000</td>\n",
       "      <td>10.150000</td>\n",
       "      <td>15141.000000</td>\n",
       "      <td>6603.000000</td>\n",
       "    </tr>\n",
       "  </tbody>\n",
       "</table>\n",
       "</div>"
      ],
      "text/plain": [
       "            Strike  Last Price         Bid         Ask      Change  \\\n",
       "count   189.000000  189.000000  189.000000  189.000000  189.000000   \n",
       "mean    917.764550   62.367354   61.059683   62.057566   -3.236243   \n",
       "std     314.265115  122.323555  119.737958  120.766869    4.813903   \n",
       "min     200.000000    0.010000    0.000000    0.020000  -22.730000   \n",
       "25%     747.500000    0.100000    0.050000    0.150000   -6.550000   \n",
       "50%     865.000000    1.560000    1.450000    1.630000   -1.020000   \n",
       "75%    1110.000000   40.770000   41.550000   43.300000   -0.050000   \n",
       "max    1700.000000  581.900000  579.850000  582.850000   10.150000   \n",
       "\n",
       "             Volume  Open Interest  \n",
       "count    189.000000     189.000000  \n",
       "mean     711.338624     504.608466  \n",
       "std     1893.182520     903.999562  \n",
       "min        1.000000       1.000000  \n",
       "25%       12.000000      85.000000  \n",
       "50%      128.000000     211.000000  \n",
       "75%      518.000000     510.000000  \n",
       "max    15141.000000    6603.000000  "
      ]
     },
     "execution_count": 13,
     "metadata": {},
     "output_type": "execute_result"
    }
   ],
   "source": [
    "# Load data for calls with exercise date = Feb 26, 2021\n",
    "calls = pd.read_html('https://finance.yahoo.com/quote/TSLA/options?date=1614297600&p=TSLA')[0]\n",
    "calls.describe()"
   ]
  },
  {
   "cell_type": "code",
   "execution_count": 14,
   "metadata": {},
   "outputs": [],
   "source": [
    "# Predict prices with BS function!\n",
    "days = 7 # time until maturity\n",
    "spot = 781.3 # source: https://finance.yahoo.com/quote/TSLA?p=TSLA&.tsrc=fin-srch\n",
    "rf = 1.345 # source: https://finance.yahoo.com/quote/%5ETNX?p=%5ETNX\n",
    "calls['Implied Volatility'] = calls['Implied Volatility'].str.rstrip('%').astype('float') / 100.0\n",
    "prediction = []\n",
    "for i in range(0, len(calls)):\n",
    "    price = call(spot, calls['Strike'][i], rf, calls['Implied Volatility'][i], days/365)\n",
    "    prediction.append(price)"
   ]
  },
  {
   "cell_type": "code",
   "execution_count": 15,
   "metadata": {},
   "outputs": [
    {
     "data": {
      "text/html": [
       "<div>\n",
       "<style scoped>\n",
       "    .dataframe tbody tr th:only-of-type {\n",
       "        vertical-align: middle;\n",
       "    }\n",
       "\n",
       "    .dataframe tbody tr th {\n",
       "        vertical-align: top;\n",
       "    }\n",
       "\n",
       "    .dataframe thead th {\n",
       "        text-align: right;\n",
       "    }\n",
       "</style>\n",
       "<table border=\"1\" class=\"dataframe\">\n",
       "  <thead>\n",
       "    <tr style=\"text-align: right;\">\n",
       "      <th></th>\n",
       "      <th>Contract Name</th>\n",
       "      <th>Last Trade Date</th>\n",
       "      <th>Strike</th>\n",
       "      <th>Last Price</th>\n",
       "      <th>Bid</th>\n",
       "      <th>Ask</th>\n",
       "      <th>Change</th>\n",
       "      <th>% Change</th>\n",
       "      <th>Volume</th>\n",
       "      <th>Open Interest</th>\n",
       "      <th>Implied Volatility</th>\n",
       "      <th>Black_Scholes</th>\n",
       "      <th>BS_Dif</th>\n",
       "    </tr>\n",
       "  </thead>\n",
       "  <tbody>\n",
       "    <tr>\n",
       "      <th>0</th>\n",
       "      <td>TSLA210226C00200000</td>\n",
       "      <td>2021-02-17 9:55AM EST</td>\n",
       "      <td>200.0</td>\n",
       "      <td>581.90</td>\n",
       "      <td>579.85</td>\n",
       "      <td>582.85</td>\n",
       "      <td>-3.60</td>\n",
       "      <td>-0.61%</td>\n",
       "      <td>20</td>\n",
       "      <td>1</td>\n",
       "      <td>3.4531</td>\n",
       "      <td>586.490399</td>\n",
       "      <td>0.620709</td>\n",
       "    </tr>\n",
       "    <tr>\n",
       "      <th>1</th>\n",
       "      <td>TSLA210226C00250000</td>\n",
       "      <td>2021-02-19 12:51PM EST</td>\n",
       "      <td>250.0</td>\n",
       "      <td>530.60</td>\n",
       "      <td>529.85</td>\n",
       "      <td>532.85</td>\n",
       "      <td>3.00</td>\n",
       "      <td>+0.57%</td>\n",
       "      <td>3</td>\n",
       "      <td>9</td>\n",
       "      <td>2.9063</td>\n",
       "      <td>537.761175</td>\n",
       "      <td>0.913263</td>\n",
       "    </tr>\n",
       "    <tr>\n",
       "      <th>2</th>\n",
       "      <td>TSLA210226C00350000</td>\n",
       "      <td>2021-02-17 1:23PM EST</td>\n",
       "      <td>350.0</td>\n",
       "      <td>433.92</td>\n",
       "      <td>429.90</td>\n",
       "      <td>432.85</td>\n",
       "      <td>0.00</td>\n",
       "      <td>-</td>\n",
       "      <td>3</td>\n",
       "      <td>14</td>\n",
       "      <td>2.1523</td>\n",
       "      <td>440.336386</td>\n",
       "      <td>1.700151</td>\n",
       "    </tr>\n",
       "    <tr>\n",
       "      <th>3</th>\n",
       "      <td>TSLA210226C00360000</td>\n",
       "      <td>2021-02-10 2:36PM EST</td>\n",
       "      <td>360.0</td>\n",
       "      <td>453.00</td>\n",
       "      <td>419.90</td>\n",
       "      <td>422.95</td>\n",
       "      <td>0.00</td>\n",
       "      <td>-</td>\n",
       "      <td>5</td>\n",
       "      <td>7</td>\n",
       "      <td>2.1836</td>\n",
       "      <td>430.664295</td>\n",
       "      <td>1.791255</td>\n",
       "    </tr>\n",
       "    <tr>\n",
       "      <th>4</th>\n",
       "      <td>TSLA210226C00370000</td>\n",
       "      <td>2021-02-12 9:35AM EST</td>\n",
       "      <td>370.0</td>\n",
       "      <td>417.80</td>\n",
       "      <td>409.90</td>\n",
       "      <td>412.90</td>\n",
       "      <td>-7.25</td>\n",
       "      <td>-1.71%</td>\n",
       "      <td>2</td>\n",
       "      <td>14</td>\n",
       "      <td>2.0664</td>\n",
       "      <td>420.880462</td>\n",
       "      <td>1.896135</td>\n",
       "    </tr>\n",
       "  </tbody>\n",
       "</table>\n",
       "</div>"
      ],
      "text/plain": [
       "         Contract Name         Last Trade Date  Strike  Last Price     Bid  \\\n",
       "0  TSLA210226C00200000   2021-02-17 9:55AM EST   200.0      581.90  579.85   \n",
       "1  TSLA210226C00250000  2021-02-19 12:51PM EST   250.0      530.60  529.85   \n",
       "2  TSLA210226C00350000   2021-02-17 1:23PM EST   350.0      433.92  429.90   \n",
       "3  TSLA210226C00360000   2021-02-10 2:36PM EST   360.0      453.00  419.90   \n",
       "4  TSLA210226C00370000   2021-02-12 9:35AM EST   370.0      417.80  409.90   \n",
       "\n",
       "      Ask  Change % Change  Volume  Open Interest  Implied Volatility  \\\n",
       "0  582.85   -3.60   -0.61%      20              1              3.4531   \n",
       "1  532.85    3.00   +0.57%       3              9              2.9063   \n",
       "2  432.85    0.00        -       3             14              2.1523   \n",
       "3  422.95    0.00        -       5              7              2.1836   \n",
       "4  412.90   -7.25   -1.71%       2             14              2.0664   \n",
       "\n",
       "   Black_Scholes    BS_Dif  \n",
       "0     586.490399  0.620709  \n",
       "1     537.761175  0.913263  \n",
       "2     440.336386  1.700151  \n",
       "3     430.664295  1.791255  \n",
       "4     420.880462  1.896135  "
      ]
     },
     "execution_count": 15,
     "metadata": {},
     "output_type": "execute_result"
    }
   ],
   "source": [
    "# Append predictions column\n",
    "calls = calls.assign(Black_Scholes = prediction)\n",
    "# Benchmark against ask price to see how far off we are from option traders' expectations\n",
    "calls['BS_Dif_Pct'] = ((calls['Black_Scholes'] - calls['Ask']) / calls['Black_Scholes']) * 100\n",
    "calls.head()"
   ]
  },
  {
   "cell_type": "code",
   "execution_count": 16,
   "metadata": {},
   "outputs": [
    {
     "data": {
      "text/plain": [
       "count    189.000000\n",
       "mean       5.610001\n",
       "std        5.746383\n",
       "min        0.044737\n",
       "25%        0.206122\n",
       "50%        2.804571\n",
       "75%       11.173063\n",
       "max       15.712723\n",
       "dtype: float64"
      ]
     },
     "execution_count": 16,
     "metadata": {},
     "output_type": "execute_result"
    }
   ],
   "source": [
    "(calls['Black_Scholes'] - calls['Ask']).describe()"
   ]
  },
  {
   "cell_type": "code",
   "execution_count": 17,
   "metadata": {},
   "outputs": [
    {
     "data": {
      "text/plain": [
       "count    189.000000\n",
       "mean      44.309673\n",
       "std       23.518224\n",
       "min        0.620709\n",
       "25%       25.786105\n",
       "50%       53.032522\n",
       "75%       64.528658\n",
       "max       71.808395\n",
       "Name: BS_Dif, dtype: float64"
      ]
     },
     "execution_count": 17,
     "metadata": {},
     "output_type": "execute_result"
    }
   ],
   "source": [
    "calls['BS_Dif_Pct'].describe()"
   ]
  },
  {
   "cell_type": "code",
   "execution_count": 18,
   "metadata": {},
   "outputs": [
    {
     "data": {
      "image/png": "[encoded data removed]",
      "text/plain": [
       "<Figure size 432x288 with 1 Axes>"
      ]
     },
     "metadata": {
      "needs_background": "light"
     },
     "output_type": "display_data"
    }
   ],
   "source": [
    "sns.histplot(calls['BS_Dif_Pct'], stat = \"density\", kde = True)\n",
    "plt.xlabel(\"% Difference from Ask Price\")\n",
    "plt.show()"
   ]
  },
  {
   "cell_type": "markdown",
   "metadata": {},
   "source": [
    "The Black Scholes Model did not produce highly accurate predictions when benchmarked against the ask price. They were 23% higher on average. <br>\n",
    "This was expected, however, since the market has been hit by COVID, and not to mention, the model assumes many unrealistic settings. \n",
    "\n",
    "1. In these uncertain times, the model assumes ***constant*** volatility and risk free rate when they are more dynamic than ever. \n",
    "\n",
    "\n",
    "2. The model also assumes that the asset's returns are ***normally*** distributed - this is not always the case. <br> \n",
    "Without knowing the shape of the distribution, how heavy the tails are, getting an accurate prediction is a difficult feat. <br>\n",
    "The distribution is roughly normal in this case, so the assumption isn't too far off.\n",
    ">**NOTE**: Black Scholes underestimates ***tail risk***, which translates to the probability of Black Swan events.<br> Options that are far out of the money will be underpriced if the returns have heavy tails.\n",
    "\n",
    "3. Additionally, the model is meant to be used on ***European*** options only. <br>With that said, this flawed implementation of the Black Scholes Model turned out to be more accurate than expected, <br>considering the current market conditions and the model's limitations."
   ]
  },
  {
   "cell_type": "markdown",
   "metadata": {},
   "source": [
    "## Further Analysis <a name=\"5\"></a>"
   ]
  },
  {
   "cell_type": "code",
   "execution_count": 19,
   "metadata": {},
   "outputs": [
    {
     "data": {
      "text/html": [
       "<div>\n",
       "<style scoped>\n",
       "    .dataframe tbody tr th:only-of-type {\n",
       "        vertical-align: middle;\n",
       "    }\n",
       "\n",
       "    .dataframe tbody tr th {\n",
       "        vertical-align: top;\n",
       "    }\n",
       "\n",
       "    .dataframe thead th {\n",
       "        text-align: right;\n",
       "    }\n",
       "</style>\n",
       "<table border=\"1\" class=\"dataframe\">\n",
       "  <thead>\n",
       "    <tr style=\"text-align: right;\">\n",
       "      <th></th>\n",
       "      <th>Strike</th>\n",
       "      <th>Last Price</th>\n",
       "      <th>Bid</th>\n",
       "      <th>Ask</th>\n",
       "      <th>Change</th>\n",
       "      <th>Volume</th>\n",
       "      <th>Open Interest</th>\n",
       "      <th>Implied Volatility</th>\n",
       "      <th>Black_Scholes</th>\n",
       "      <th>BS_Dif</th>\n",
       "      <th>abs_BS_Dif</th>\n",
       "    </tr>\n",
       "  </thead>\n",
       "  <tbody>\n",
       "    <tr>\n",
       "      <th>count</th>\n",
       "      <td>20.000000</td>\n",
       "      <td>20.000000</td>\n",
       "      <td>20.000000</td>\n",
       "      <td>20.000000</td>\n",
       "      <td>20.000000</td>\n",
       "      <td>20.000000</td>\n",
       "      <td>20.0000</td>\n",
       "      <td>20.000000</td>\n",
       "      <td>20.000000</td>\n",
       "      <td>20.000000</td>\n",
       "      <td>20.000000</td>\n",
       "    </tr>\n",
       "    <tr>\n",
       "      <th>mean</th>\n",
       "      <td>414.000000</td>\n",
       "      <td>373.605000</td>\n",
       "      <td>365.945000</td>\n",
       "      <td>369.050000</td>\n",
       "      <td>-2.148000</td>\n",
       "      <td>10.800000</td>\n",
       "      <td>14.8500</td>\n",
       "      <td>1.903120</td>\n",
       "      <td>378.108695</td>\n",
       "      <td>2.586919</td>\n",
       "      <td>2.586919</td>\n",
       "    </tr>\n",
       "    <tr>\n",
       "      <th>std</th>\n",
       "      <td>82.423809</td>\n",
       "      <td>82.816585</td>\n",
       "      <td>82.364175</td>\n",
       "      <td>82.280186</td>\n",
       "      <td>6.752414</td>\n",
       "      <td>12.821035</td>\n",
       "      <td>16.6742</td>\n",
       "      <td>0.502116</td>\n",
       "      <td>80.211700</td>\n",
       "      <td>0.975694</td>\n",
       "      <td>0.975694</td>\n",
       "    </tr>\n",
       "    <tr>\n",
       "      <th>min</th>\n",
       "      <td>200.000000</td>\n",
       "      <td>254.100000</td>\n",
       "      <td>260.100000</td>\n",
       "      <td>263.350000</td>\n",
       "      <td>-14.940000</td>\n",
       "      <td>2.000000</td>\n",
       "      <td>1.0000</td>\n",
       "      <td>1.385700</td>\n",
       "      <td>275.042281</td>\n",
       "      <td>0.620709</td>\n",
       "      <td>0.620709</td>\n",
       "    </tr>\n",
       "    <tr>\n",
       "      <th>25%</th>\n",
       "      <td>377.500000</td>\n",
       "      <td>318.147500</td>\n",
       "      <td>307.500000</td>\n",
       "      <td>310.650000</td>\n",
       "      <td>-6.725000</td>\n",
       "      <td>3.000000</td>\n",
       "      <td>7.0000</td>\n",
       "      <td>1.590350</td>\n",
       "      <td>321.188733</td>\n",
       "      <td>1.975836</td>\n",
       "      <td>1.975836</td>\n",
       "    </tr>\n",
       "    <tr>\n",
       "      <th>50%</th>\n",
       "      <td>425.000000</td>\n",
       "      <td>355.035000</td>\n",
       "      <td>354.925000</td>\n",
       "      <td>358.000000</td>\n",
       "      <td>0.000000</td>\n",
       "      <td>5.500000</td>\n",
       "      <td>10.5000</td>\n",
       "      <td>1.785150</td>\n",
       "      <td>367.353801</td>\n",
       "      <td>2.547156</td>\n",
       "      <td>2.547156</td>\n",
       "    </tr>\n",
       "    <tr>\n",
       "      <th>75%</th>\n",
       "      <td>472.500000</td>\n",
       "      <td>413.225000</td>\n",
       "      <td>402.400000</td>\n",
       "      <td>405.400000</td>\n",
       "      <td>1.412500</td>\n",
       "      <td>11.500000</td>\n",
       "      <td>14.0000</td>\n",
       "      <td>2.013675</td>\n",
       "      <td>413.569512</td>\n",
       "      <td>3.282190</td>\n",
       "      <td>3.282190</td>\n",
       "    </tr>\n",
       "    <tr>\n",
       "      <th>max</th>\n",
       "      <td>520.000000</td>\n",
       "      <td>581.900000</td>\n",
       "      <td>579.850000</td>\n",
       "      <td>582.850000</td>\n",
       "      <td>10.150000</td>\n",
       "      <td>53.000000</td>\n",
       "      <td>78.0000</td>\n",
       "      <td>3.453100</td>\n",
       "      <td>586.490399</td>\n",
       "      <td>4.251085</td>\n",
       "      <td>4.251085</td>\n",
       "    </tr>\n",
       "  </tbody>\n",
       "</table>\n",
       "</div>"
      ],
      "text/plain": [
       "           Strike  Last Price         Bid         Ask     Change     Volume  \\\n",
       "count   20.000000   20.000000   20.000000   20.000000  20.000000  20.000000   \n",
       "mean   414.000000  373.605000  365.945000  369.050000  -2.148000  10.800000   \n",
       "std     82.423809   82.816585   82.364175   82.280186   6.752414  12.821035   \n",
       "min    200.000000  254.100000  260.100000  263.350000 -14.940000   2.000000   \n",
       "25%    377.500000  318.147500  307.500000  310.650000  -6.725000   3.000000   \n",
       "50%    425.000000  355.035000  354.925000  358.000000   0.000000   5.500000   \n",
       "75%    472.500000  413.225000  402.400000  405.400000   1.412500  11.500000   \n",
       "max    520.000000  581.900000  579.850000  582.850000  10.150000  53.000000   \n",
       "\n",
       "       Open Interest  Implied Volatility  Black_Scholes     BS_Dif  abs_BS_Dif  \n",
       "count        20.0000           20.000000      20.000000  20.000000   20.000000  \n",
       "mean         14.8500            1.903120     378.108695   2.586919    2.586919  \n",
       "std          16.6742            0.502116      80.211700   0.975694    0.975694  \n",
       "min           1.0000            1.385700     275.042281   0.620709    0.620709  \n",
       "25%           7.0000            1.590350     321.188733   1.975836    1.975836  \n",
       "50%          10.5000            1.785150     367.353801   2.547156    2.547156  \n",
       "75%          14.0000            2.013675     413.569512   3.282190    3.282190  \n",
       "max          78.0000            3.453100     586.490399   4.251085    4.251085  "
      ]
     },
     "execution_count": 19,
     "metadata": {},
     "output_type": "execute_result"
    }
   ],
   "source": [
    "# Question: which calls were predicted most accurately? Which were the least accurate? Let's find out.\n",
    "\n",
    "# take absolute value of the difference\n",
    "calls = calls.assign(abs_BS_Dif_Pct = abs(calls['BS_Dif_Pct'])) \n",
    "# sort by the absolute value column\n",
    "BS = calls.sort_values(by = 'abs_BS_Dif_Pct').drop(['Contract Name', 'Last Trade Date'], 1)\n",
    "# get summary stats on top 20 most accurate predictions\n",
    "BS.head(20).describe()"
   ]
  },
  {
   "cell_type": "code",
   "execution_count": 20,
   "metadata": {},
   "outputs": [
    {
     "data": {
      "text/html": [
       "<div>\n",
       "<style scoped>\n",
       "    .dataframe tbody tr th:only-of-type {\n",
       "        vertical-align: middle;\n",
       "    }\n",
       "\n",
       "    .dataframe tbody tr th {\n",
       "        vertical-align: top;\n",
       "    }\n",
       "\n",
       "    .dataframe thead th {\n",
       "        text-align: right;\n",
       "    }\n",
       "</style>\n",
       "<table border=\"1\" class=\"dataframe\">\n",
       "  <thead>\n",
       "    <tr style=\"text-align: right;\">\n",
       "      <th></th>\n",
       "      <th>Strike</th>\n",
       "      <th>Last Price</th>\n",
       "      <th>Bid</th>\n",
       "      <th>Ask</th>\n",
       "      <th>Change</th>\n",
       "      <th>Volume</th>\n",
       "      <th>Open Interest</th>\n",
       "      <th>Implied Volatility</th>\n",
       "      <th>Black_Scholes</th>\n",
       "      <th>BS_Dif</th>\n",
       "      <th>abs_BS_Dif</th>\n",
       "    </tr>\n",
       "  </thead>\n",
       "  <tbody>\n",
       "    <tr>\n",
       "      <th>count</th>\n",
       "      <td>20.000000</td>\n",
       "      <td>20.00000</td>\n",
       "      <td>20.000000</td>\n",
       "      <td>20.000000</td>\n",
       "      <td>20.000000</td>\n",
       "      <td>20.000000</td>\n",
       "      <td>20.000000</td>\n",
       "      <td>20.000000</td>\n",
       "      <td>20.000000</td>\n",
       "      <td>20.000000</td>\n",
       "      <td>20.000000</td>\n",
       "    </tr>\n",
       "    <tr>\n",
       "      <th>mean</th>\n",
       "      <td>1310.250000</td>\n",
       "      <td>0.14450</td>\n",
       "      <td>0.128000</td>\n",
       "      <td>0.151000</td>\n",
       "      <td>-0.237000</td>\n",
       "      <td>1178.050000</td>\n",
       "      <td>1284.450000</td>\n",
       "      <td>1.225130</td>\n",
       "      <td>0.493795</td>\n",
       "      <td>69.732629</td>\n",
       "      <td>69.732629</td>\n",
       "    </tr>\n",
       "    <tr>\n",
       "      <th>std</th>\n",
       "      <td>295.187162</td>\n",
       "      <td>0.18506</td>\n",
       "      <td>0.177189</td>\n",
       "      <td>0.189706</td>\n",
       "      <td>0.353525</td>\n",
       "      <td>2972.650819</td>\n",
       "      <td>2022.805282</td>\n",
       "      <td>0.435764</td>\n",
       "      <td>0.614162</td>\n",
       "      <td>1.227285</td>\n",
       "      <td>1.227285</td>\n",
       "    </tr>\n",
       "    <tr>\n",
       "      <th>min</th>\n",
       "      <td>900.000000</td>\n",
       "      <td>0.02000</td>\n",
       "      <td>0.010000</td>\n",
       "      <td>0.020000</td>\n",
       "      <td>-1.190000</td>\n",
       "      <td>3.000000</td>\n",
       "      <td>29.000000</td>\n",
       "      <td>0.577200</td>\n",
       "      <td>0.064737</td>\n",
       "      <td>67.483100</td>\n",
       "      <td>67.483100</td>\n",
       "    </tr>\n",
       "    <tr>\n",
       "      <th>25%</th>\n",
       "      <td>978.750000</td>\n",
       "      <td>0.02000</td>\n",
       "      <td>0.020000</td>\n",
       "      <td>0.030000</td>\n",
       "      <td>-0.430000</td>\n",
       "      <td>9.500000</td>\n",
       "      <td>197.000000</td>\n",
       "      <td>0.735725</td>\n",
       "      <td>0.100130</td>\n",
       "      <td>69.142321</td>\n",
       "      <td>69.142321</td>\n",
       "    </tr>\n",
       "    <tr>\n",
       "      <th>50%</th>\n",
       "      <td>1425.000000</td>\n",
       "      <td>0.03000</td>\n",
       "      <td>0.020000</td>\n",
       "      <td>0.035000</td>\n",
       "      <td>-0.025000</td>\n",
       "      <td>149.500000</td>\n",
       "      <td>414.500000</td>\n",
       "      <td>1.433600</td>\n",
       "      <td>0.113539</td>\n",
       "      <td>69.886711</td>\n",
       "      <td>69.886711</td>\n",
       "    </tr>\n",
       "    <tr>\n",
       "      <th>75%</th>\n",
       "      <td>1556.250000</td>\n",
       "      <td>0.23750</td>\n",
       "      <td>0.205000</td>\n",
       "      <td>0.250000</td>\n",
       "      <td>0.000000</td>\n",
       "      <td>758.500000</td>\n",
       "      <td>1298.750000</td>\n",
       "      <td>1.583975</td>\n",
       "      <td>0.833985</td>\n",
       "      <td>70.462909</td>\n",
       "      <td>70.462909</td>\n",
       "    </tr>\n",
       "    <tr>\n",
       "      <th>max</th>\n",
       "      <td>1700.000000</td>\n",
       "      <td>0.67000</td>\n",
       "      <td>0.650000</td>\n",
       "      <td>0.680000</td>\n",
       "      <td>0.000000</td>\n",
       "      <td>13147.000000</td>\n",
       "      <td>6603.000000</td>\n",
       "      <td>1.734400</td>\n",
       "      <td>2.186011</td>\n",
       "      <td>71.808395</td>\n",
       "      <td>71.808395</td>\n",
       "    </tr>\n",
       "  </tbody>\n",
       "</table>\n",
       "</div>"
      ],
      "text/plain": [
       "            Strike  Last Price        Bid        Ask     Change        Volume  \\\n",
       "count    20.000000    20.00000  20.000000  20.000000  20.000000     20.000000   \n",
       "mean   1310.250000     0.14450   0.128000   0.151000  -0.237000   1178.050000   \n",
       "std     295.187162     0.18506   0.177189   0.189706   0.353525   2972.650819   \n",
       "min     900.000000     0.02000   0.010000   0.020000  -1.190000      3.000000   \n",
       "25%     978.750000     0.02000   0.020000   0.030000  -0.430000      9.500000   \n",
       "50%    1425.000000     0.03000   0.020000   0.035000  -0.025000    149.500000   \n",
       "75%    1556.250000     0.23750   0.205000   0.250000   0.000000    758.500000   \n",
       "max    1700.000000     0.67000   0.650000   0.680000   0.000000  13147.000000   \n",
       "\n",
       "       Open Interest  Implied Volatility  Black_Scholes     BS_Dif  abs_BS_Dif  \n",
       "count      20.000000           20.000000      20.000000  20.000000   20.000000  \n",
       "mean     1284.450000            1.225130       0.493795  69.732629   69.732629  \n",
       "std      2022.805282            0.435764       0.614162   1.227285    1.227285  \n",
       "min        29.000000            0.577200       0.064737  67.483100   67.483100  \n",
       "25%       197.000000            0.735725       0.100130  69.142321   69.142321  \n",
       "50%       414.500000            1.433600       0.113539  69.886711   69.886711  \n",
       "75%      1298.750000            1.583975       0.833985  70.462909   70.462909  \n",
       "max      6603.000000            1.734400       2.186011  71.808395   71.808395  "
      ]
     },
     "execution_count": 20,
     "metadata": {},
     "output_type": "execute_result"
    }
   ],
   "source": [
    "# compare to the 20 least accurate predictions\n",
    "BS.tail(20).describe()"
   ]
  },
  {
   "cell_type": "markdown",
   "metadata": {},
   "source": [
    "Observations from comparing the above tables: $ $\n",
    "- average last price, bid, & ask: **~\\\\$300** for most accurate, vs **~\\\\$1.5** for least accurate $ $\n",
    "- average volume: **16** for most accurate, vs **2008** for least accurate $ $\n",
    "- the **least** accurate predictions came from a **narrow range**: strike price $\\in [845, 950]$\n",
    "- the **std** of last price, bid, ask, is much **smaller** for the least accurate predictions $ $\n",
    "\n",
    "Let's explore this further with some scatter plots. $ $"
   ]
  },
  {
   "cell_type": "code",
   "execution_count": 21,
   "metadata": {},
   "outputs": [
    {
     "data": {
      "image/png": "[encoded data removed]",
      "text/plain": [
       "<Figure size 432x288 with 1 Axes>"
      ]
     },
     "metadata": {
      "needs_background": "light"
     },
     "output_type": "display_data"
    }
   ],
   "source": [
    "# Regression analysis: how does strike price affect our chosen accuracy metric? (dif between predictions and ask price)\n",
    "plt.scatter(calls.Strike, calls.abs_BS_Dif_Pct)\n",
    "plt.xlabel('Strike Price')\n",
    "plt.ylabel('Difference from Ask Price')\n",
    "plt.axvline(x = spot, color = 'grey') # mark the spot price with a grey line\n",
    "plt.show()"
   ]
  },
  {
   "cell_type": "markdown",
   "metadata": {},
   "source": [
    "ITM calls (data points to the left of the grey bar) are more accurate! <br>\n",
    "Some OTM calls are relatively accurate, specifically those with a strike price of 1100 - 1500"
   ]
  },
  {
   "cell_type": "code",
   "execution_count": 22,
   "metadata": {},
   "outputs": [
    {
     "data": {
      "text/plain": [
       "count    61.000000\n",
       "mean     13.392678\n",
       "std      11.511579\n",
       "min       0.620709\n",
       "25%       3.417192\n",
       "50%       8.546192\n",
       "75%      23.106595\n",
       "max      37.546107\n",
       "Name: BS_Dif, dtype: float64"
      ]
     },
     "execution_count": 22,
     "metadata": {},
     "output_type": "execute_result"
    }
   ],
   "source": [
    "# Let's look at in-the-money calls only\n",
    "ITM = calls[calls['Strike'] < spot]\n",
    "ITM.BS_Dif_Pct.describe()"
   ]
  },
  {
   "cell_type": "code",
   "execution_count": 23,
   "metadata": {},
   "outputs": [
    {
     "data": {
      "image/png": "[encoded data removed]",
      "text/plain": [
       "<Figure size 432x288 with 1 Axes>"
      ]
     },
     "metadata": {
      "needs_background": "light"
     },
     "output_type": "display_data"
    }
   ],
   "source": [
    "# The predictions for ITM calls are indeed much closer to the ask price\n",
    "# On average, they were only 12% off from the ask price\n",
    "sns.histplot(ITM['BS_Dif_Pct'], stat = \"density\", kde = True)\n",
    "plt.xlabel(\"% Difference from Ask Price\")\n",
    "plt.show()"
   ]
  },
  {
   "cell_type": "code",
   "execution_count": 24,
   "metadata": {},
   "outputs": [
    {
     "data": {
      "text/plain": [
       "count    128.000000\n",
       "mean      59.043554\n",
       "std        8.846210\n",
       "min       37.191269\n",
       "25%       52.823461\n",
       "50%       61.290991\n",
       "75%       65.730252\n",
       "max       71.808395\n",
       "Name: BS_Dif, dtype: float64"
      ]
     },
     "execution_count": 24,
     "metadata": {},
     "output_type": "execute_result"
    }
   ],
   "source": [
    "# Look at out-of-the-money calls\n",
    "OTM = calls[calls['Strike'] > spot]\n",
    "OTM.BS_Dif_Pct.describe()"
   ]
  },
  {
   "cell_type": "code",
   "execution_count": 25,
   "metadata": {},
   "outputs": [
    {
     "data": {
      "image/png": "[encoded data removed]",
      "text/plain": [
       "<Figure size 432x288 with 1 Axes>"
      ]
     },
     "metadata": {
      "needs_background": "light"
     },
     "output_type": "display_data"
    }
   ],
   "source": [
    "sns.histplot(OTM['BS_Dif_Pct'], stat = \"density\", kde = True)\n",
    "plt.xlabel(\"% Difference from Ask Price\")\n",
    "plt.show()"
   ]
  },
  {
   "cell_type": "markdown",
   "metadata": {},
   "source": [
    "This is consistent with what we know:  <br>\n",
    "The BS model cannot be relied on to price options that are far out of the money"
   ]
  },
  {
   "cell_type": "code",
   "execution_count": 26,
   "metadata": {},
   "outputs": [
    {
     "data": {
      "image/png": "[encoded data removed]",
      "text/plain": [
       "<Figure size 1440x360 with 3 Axes>"
      ]
     },
     "metadata": {
      "needs_background": "light"
     },
     "output_type": "display_data"
    }
   ],
   "source": [
    "# Test to see which factors are correlated with our chosen accuracy metric\n",
    "def subScatter(y, method):\n",
    "    size = 20\n",
    "    f, (ax1, ax2, ax3) = plt.subplots(1, 3, sharey=True, figsize=(20, 5))\n",
    "    ax1.scatter(calls.Volume, y)\n",
    "    ax1.set_title('Volume', fontsize = size, y = -0.2)\n",
    "\n",
    "    ax2.scatter(calls['Last Price'], y)\n",
    "    ax2.set_title('Last Price', fontsize = size, y = -0.2)\n",
    "\n",
    "    ax3.scatter(calls['Implied Volatility'], y)\n",
    "    ax3.set_title('Implied Volatility', fontsize = size, y = -0.2)\n",
    "    plt.figtext(0.5, 1, method + ' - Prediction Accuracy vs Various Factors', fontsize = 26, ha = 'center')\n",
    "\n",
    "    plt.show()\n",
    "\n",
    "subScatter(calls.abs_BS_Dif_Pct, 'Black Scholes Model')"
   ]
  },
  {
   "cell_type": "markdown",
   "metadata": {},
   "source": [
    "It appears that\n",
    "- accuracy and volume are generally not correlated\n",
    "- higher last transaction prices guarantees higher accuracy in this implementation, and vice versa\n",
    "- higher iv sometimes leads to higher accuracy"
   ]
  },
  {
   "cell_type": "markdown",
   "metadata": {},
   "source": [
    "Let's try a different method - one that isn't limited to vanilla European options and doesn't assume Normal returns in the underlying. \n",
    "\n",
    "No more unrealistic assumptions!"
   ]
  },
  {
   "cell_type": "markdown",
   "metadata": {},
   "source": [
    "## Monte Carlo Method<a name=\"6\"></a>"
   ]
  },
  {
   "cell_type": "code",
   "execution_count": 27,
   "metadata": {},
   "outputs": [
    {
     "data": {
      "text/plain": [
       "Contract Name           TSLA210226C00200000\n",
       "Last Trade Date       2021-02-17 9:55AM EST\n",
       "Strike                                  200\n",
       "Last Price                            581.9\n",
       "Bid                                  579.85\n",
       "Ask                                  582.85\n",
       "Change                                 -3.6\n",
       "% Change                             -0.61%\n",
       "Volume                                   20\n",
       "Open Interest                             1\n",
       "Implied Volatility                   3.4531\n",
       "Black_Scholes                        586.49\n",
       "BS_Dif                             0.620709\n",
       "abs_BS_Dif                         0.620709\n",
       "Name: 0, dtype: object"
      ]
     },
     "execution_count": 27,
     "metadata": {},
     "output_type": "execute_result"
    }
   ],
   "source": [
    "# Test the method on the first call option in our data set\n",
    "calls.loc[0]"
   ]
  },
  {
   "cell_type": "code",
   "execution_count": 28,
   "metadata": {},
   "outputs": [
    {
     "data": {
      "text/plain": [
       "(100000, 7)"
      ]
     },
     "execution_count": 28,
     "metadata": {},
     "output_type": "execute_result"
    }
   ],
   "source": [
    "strike = calls.loc[0]['Strike']\n",
    "iv = calls.loc[0]['Implied Volatility']\n",
    "\n",
    "# generate paths for which the stock price could fluctuate\n",
    "paths = 100000\n",
    "np.random.seed(50)\n",
    "# calculate the daily returns for each path, obtain a 100000 by 7 matrix\n",
    "returns = np.random.randn(paths, days) * iv / sqrt(tradingDays)\n",
    "# sanity check\n",
    "returns.shape"
   ]
  },
  {
   "cell_type": "code",
   "execution_count": 29,
   "metadata": {
    "scrolled": true
   },
   "outputs": [
    {
     "data": {
      "image/png": "[encoded data removed]",
      "text/plain": [
       "<Figure size 432x288 with 1 Axes>"
      ]
     },
     "metadata": {
      "needs_background": "light"
     },
     "output_type": "display_data"
    }
   ],
   "source": [
    "# multiply spot price by each return value in the list of arrays\n",
    "prices = np.cumprod(1 + returns, 1) * spot\n",
    "# plot the price cone for the first 100 outcomes\n",
    "for i in prices[:100, :]:\n",
    "    plt.plot(i)\n",
    "plt.xlabel('Time Steps')\n",
    "plt.ylabel('Price')\n",
    "plt.grid()\n",
    "plt.show()"
   ]
  },
  {
   "cell_type": "code",
   "execution_count": 30,
   "metadata": {
    "scrolled": true
   },
   "outputs": [
    {
     "data": {
      "image/png": "[encoded data removed]",
      "text/plain": [
       "<Figure size 432x288 with 1 Axes>"
      ]
     },
     "metadata": {
      "needs_background": "light"
     },
     "output_type": "display_data"
    }
   ],
   "source": [
    "# Visualize the distribution of final prices\n",
    "plt.hist(prices[:, -1], bins = 40)\n",
    "plt.title('Distribution of Stock Price on Exercise Date')\n",
    "plt.grid(True)\n",
    "plt.xlabel('Prices')\n",
    "plt.ylabel('Counts')\n",
    "plt.show()"
   ]
  },
  {
   "cell_type": "code",
   "execution_count": 31,
   "metadata": {},
   "outputs": [
    {
     "data": {
      "text/plain": [
       "584.1859836528047"
      ]
     },
     "execution_count": 31,
     "metadata": {},
     "output_type": "execute_result"
    }
   ],
   "source": [
    "# calculate the call price!\n",
    "intrinsicVal = prices[:, -1] - strike\n",
    "indicator = intrinsicVal > 0\n",
    "call = np.mean(intrinsicVal * indicator)\n",
    "call"
   ]
  },
  {
   "cell_type": "code",
   "execution_count": 32,
   "metadata": {},
   "outputs": [
    {
     "data": {
      "text/plain": [
       "582.85"
      ]
     },
     "execution_count": 32,
     "metadata": {},
     "output_type": "execute_result"
    }
   ],
   "source": [
    "# compare with our accuracy metric - not bad!\n",
    "calls.loc[0]['Ask']"
   ]
  },
  {
   "cell_type": "markdown",
   "metadata": {},
   "source": [
    "## Implementation<a name=\"7\"></a>"
   ]
  },
  {
   "cell_type": "code",
   "execution_count": 33,
   "metadata": {},
   "outputs": [],
   "source": [
    "# Condense the above into a single for-loop and iterate over each option in our dataset\n",
    "predictions = []\n",
    "for i in range(0, len(calls)):\n",
    "    strike = calls.loc[i]['Strike']\n",
    "    iv = calls.loc[i]['Implied Volatility']\n",
    "    returns = np.random.randn(paths, days) * iv / sqrt(tradingDays)\n",
    "    prices = np.cumprod(1 + returns, 1) * spot\n",
    "    intrinsicVal = prices[:, -1] - strike\n",
    "    indicator = intrinsicVal > 0\n",
    "    call = np.mean(intrinsicVal * indicator)\n",
    "    predictions.append(call)"
   ]
  },
  {
   "cell_type": "code",
   "execution_count": 34,
   "metadata": {},
   "outputs": [
    {
     "data": {
      "text/html": [
       "<div>\n",
       "<style scoped>\n",
       "    .dataframe tbody tr th:only-of-type {\n",
       "        vertical-align: middle;\n",
       "    }\n",
       "\n",
       "    .dataframe tbody tr th {\n",
       "        vertical-align: top;\n",
       "    }\n",
       "\n",
       "    .dataframe thead th {\n",
       "        text-align: right;\n",
       "    }\n",
       "</style>\n",
       "<table border=\"1\" class=\"dataframe\">\n",
       "  <thead>\n",
       "    <tr style=\"text-align: right;\">\n",
       "      <th></th>\n",
       "      <th>Contract Name</th>\n",
       "      <th>Last Trade Date</th>\n",
       "      <th>Strike</th>\n",
       "      <th>Last Price</th>\n",
       "      <th>Bid</th>\n",
       "      <th>Ask</th>\n",
       "      <th>Change</th>\n",
       "      <th>% Change</th>\n",
       "      <th>Volume</th>\n",
       "      <th>Open Interest</th>\n",
       "      <th>Implied Volatility</th>\n",
       "      <th>Black_Scholes</th>\n",
       "      <th>BS_Dif</th>\n",
       "      <th>abs_BS_Dif</th>\n",
       "      <th>Monte_Carlo</th>\n",
       "      <th>MC_Dif</th>\n",
       "    </tr>\n",
       "  </thead>\n",
       "  <tbody>\n",
       "    <tr>\n",
       "      <th>0</th>\n",
       "      <td>TSLA210226C00200000</td>\n",
       "      <td>2021-02-17 9:55AM EST</td>\n",
       "      <td>200.0</td>\n",
       "      <td>581.90</td>\n",
       "      <td>579.85</td>\n",
       "      <td>582.85</td>\n",
       "      <td>-3.60</td>\n",
       "      <td>-0.61%</td>\n",
       "      <td>20</td>\n",
       "      <td>1</td>\n",
       "      <td>3.4531</td>\n",
       "      <td>586.490399</td>\n",
       "      <td>0.620709</td>\n",
       "      <td>0.620709</td>\n",
       "      <td>583.657720</td>\n",
       "      <td>0.138389</td>\n",
       "    </tr>\n",
       "    <tr>\n",
       "      <th>1</th>\n",
       "      <td>TSLA210226C00250000</td>\n",
       "      <td>2021-02-19 12:51PM EST</td>\n",
       "      <td>250.0</td>\n",
       "      <td>530.60</td>\n",
       "      <td>529.85</td>\n",
       "      <td>532.85</td>\n",
       "      <td>3.00</td>\n",
       "      <td>+0.57%</td>\n",
       "      <td>3</td>\n",
       "      <td>9</td>\n",
       "      <td>2.9063</td>\n",
       "      <td>537.761175</td>\n",
       "      <td>0.913263</td>\n",
       "      <td>0.913263</td>\n",
       "      <td>534.784621</td>\n",
       "      <td>0.361757</td>\n",
       "    </tr>\n",
       "    <tr>\n",
       "      <th>2</th>\n",
       "      <td>TSLA210226C00350000</td>\n",
       "      <td>2021-02-17 1:23PM EST</td>\n",
       "      <td>350.0</td>\n",
       "      <td>433.92</td>\n",
       "      <td>429.90</td>\n",
       "      <td>432.85</td>\n",
       "      <td>0.00</td>\n",
       "      <td>-</td>\n",
       "      <td>3</td>\n",
       "      <td>14</td>\n",
       "      <td>2.1523</td>\n",
       "      <td>440.336386</td>\n",
       "      <td>1.700151</td>\n",
       "      <td>1.700151</td>\n",
       "      <td>432.646124</td>\n",
       "      <td>-0.047123</td>\n",
       "    </tr>\n",
       "    <tr>\n",
       "      <th>3</th>\n",
       "      <td>TSLA210226C00360000</td>\n",
       "      <td>2021-02-10 2:36PM EST</td>\n",
       "      <td>360.0</td>\n",
       "      <td>453.00</td>\n",
       "      <td>419.90</td>\n",
       "      <td>422.95</td>\n",
       "      <td>0.00</td>\n",
       "      <td>-</td>\n",
       "      <td>5</td>\n",
       "      <td>7</td>\n",
       "      <td>2.1836</td>\n",
       "      <td>430.664295</td>\n",
       "      <td>1.791255</td>\n",
       "      <td>1.791255</td>\n",
       "      <td>423.351350</td>\n",
       "      <td>0.094803</td>\n",
       "    </tr>\n",
       "    <tr>\n",
       "      <th>4</th>\n",
       "      <td>TSLA210226C00370000</td>\n",
       "      <td>2021-02-12 9:35AM EST</td>\n",
       "      <td>370.0</td>\n",
       "      <td>417.80</td>\n",
       "      <td>409.90</td>\n",
       "      <td>412.90</td>\n",
       "      <td>-7.25</td>\n",
       "      <td>-1.71%</td>\n",
       "      <td>2</td>\n",
       "      <td>14</td>\n",
       "      <td>2.0664</td>\n",
       "      <td>420.880462</td>\n",
       "      <td>1.896135</td>\n",
       "      <td>1.896135</td>\n",
       "      <td>412.193986</td>\n",
       "      <td>-0.171282</td>\n",
       "    </tr>\n",
       "  </tbody>\n",
       "</table>\n",
       "</div>"
      ],
      "text/plain": [
       "         Contract Name         Last Trade Date  Strike  Last Price     Bid  \\\n",
       "0  TSLA210226C00200000   2021-02-17 9:55AM EST   200.0      581.90  579.85   \n",
       "1  TSLA210226C00250000  2021-02-19 12:51PM EST   250.0      530.60  529.85   \n",
       "2  TSLA210226C00350000   2021-02-17 1:23PM EST   350.0      433.92  429.90   \n",
       "3  TSLA210226C00360000   2021-02-10 2:36PM EST   360.0      453.00  419.90   \n",
       "4  TSLA210226C00370000   2021-02-12 9:35AM EST   370.0      417.80  409.90   \n",
       "\n",
       "      Ask  Change % Change  Volume  Open Interest  Implied Volatility  \\\n",
       "0  582.85   -3.60   -0.61%      20              1              3.4531   \n",
       "1  532.85    3.00   +0.57%       3              9              2.9063   \n",
       "2  432.85    0.00        -       3             14              2.1523   \n",
       "3  422.95    0.00        -       5              7              2.1836   \n",
       "4  412.90   -7.25   -1.71%       2             14              2.0664   \n",
       "\n",
       "   Black_Scholes    BS_Dif  abs_BS_Dif  Monte_Carlo    MC_Dif  \n",
       "0     586.490399  0.620709    0.620709   583.657720  0.138389  \n",
       "1     537.761175  0.913263    0.913263   534.784621  0.361757  \n",
       "2     440.336386  1.700151    1.700151   432.646124 -0.047123  \n",
       "3     430.664295  1.791255    1.791255   423.351350  0.094803  \n",
       "4     420.880462  1.896135    1.896135   412.193986 -0.171282  "
      ]
     },
     "execution_count": 34,
     "metadata": {},
     "output_type": "execute_result"
    }
   ],
   "source": [
    "# Append predictions column\n",
    "calls = calls.assign(Monte_Carlo = predictions)\n",
    "# Benchmark against ask price\n",
    "calls['MC_Dif'] = ((calls['Monte_Carlo'] - calls['Ask']) / calls['Monte_Carlo']) * 100\n",
    "calls.head()"
   ]
  },
  {
   "cell_type": "code",
   "execution_count": 35,
   "metadata": {},
   "outputs": [
    {
     "data": {
      "text/plain": [
       "count    189.000000\n",
       "mean       1.985867\n",
       "std        1.914099\n",
       "min       -1.636055\n",
       "25%        0.460854\n",
       "50%        1.136719\n",
       "75%        3.400452\n",
       "max        6.165323\n",
       "dtype: float64"
      ]
     },
     "execution_count": 35,
     "metadata": {},
     "output_type": "execute_result"
    }
   ],
   "source": [
    "(calls['Monte_Carlo'] - calls['Ask']).describe()"
   ]
  },
  {
   "cell_type": "code",
   "execution_count": 36,
   "metadata": {},
   "outputs": [
    {
     "data": {
      "text/plain": [
       "count    189.000000\n",
       "mean      48.392720\n",
       "std       33.930914\n",
       "min       -0.440494\n",
       "25%        9.699343\n",
       "50%       61.089573\n",
       "75%       79.531952\n",
       "max       91.473631\n",
       "Name: MC_Dif, dtype: float64"
      ]
     },
     "execution_count": 36,
     "metadata": {},
     "output_type": "execute_result"
    }
   ],
   "source": [
    "calls.MC_Dif.describe()"
   ]
  },
  {
   "cell_type": "code",
   "execution_count": 37,
   "metadata": {},
   "outputs": [
    {
     "data": {
      "image/png": "[encoded data removed]",
      "text/plain": [
       "<Figure size 432x288 with 1 Axes>"
      ]
     },
     "metadata": {
      "needs_background": "light"
     },
     "output_type": "display_data"
    }
   ],
   "source": [
    "sns.histplot(calls['MC_Dif'], stat = \"density\", kde = True)\n",
    "plt.xlabel(\"% Difference from Ask Price\")\n",
    "plt.show()"
   ]
  },
  {
   "cell_type": "markdown",
   "metadata": {},
   "source": [
    "The Monte Carlo Algorithm gave slightly better results - a higher percentage (around 10% more) of the predictions are closer to the ask price. <br>However, the density over the 50-70% interval is higher than desired. Could it be a superposition of 2 normal (albeit skewed but roughly normal) curves, similar to the BS model? Let's take a closer look at what's going on."
   ]
  },
  {
   "cell_type": "markdown",
   "metadata": {},
   "source": [
    "## Further Analysis<a name=\"8\"></a>"
   ]
  },
  {
   "cell_type": "code",
   "execution_count": 38,
   "metadata": {},
   "outputs": [
    {
     "data": {
      "text/html": [
       "<div>\n",
       "<style scoped>\n",
       "    .dataframe tbody tr th:only-of-type {\n",
       "        vertical-align: middle;\n",
       "    }\n",
       "\n",
       "    .dataframe tbody tr th {\n",
       "        vertical-align: top;\n",
       "    }\n",
       "\n",
       "    .dataframe thead th {\n",
       "        text-align: right;\n",
       "    }\n",
       "</style>\n",
       "<table border=\"1\" class=\"dataframe\">\n",
       "  <thead>\n",
       "    <tr style=\"text-align: right;\">\n",
       "      <th></th>\n",
       "      <th>Strike</th>\n",
       "      <th>Last Price</th>\n",
       "      <th>Bid</th>\n",
       "      <th>Ask</th>\n",
       "      <th>Change</th>\n",
       "      <th>Volume</th>\n",
       "      <th>Open Interest</th>\n",
       "      <th>Implied Volatility</th>\n",
       "      <th>Monte_Carlo</th>\n",
       "      <th>MC_Dif</th>\n",
       "      <th>abs_MC_Dif</th>\n",
       "    </tr>\n",
       "  </thead>\n",
       "  <tbody>\n",
       "    <tr>\n",
       "      <th>count</th>\n",
       "      <td>20.000000</td>\n",
       "      <td>20.000000</td>\n",
       "      <td>20.000000</td>\n",
       "      <td>20.000000</td>\n",
       "      <td>20.000000</td>\n",
       "      <td>20.000000</td>\n",
       "      <td>20.000000</td>\n",
       "      <td>20.000000</td>\n",
       "      <td>20.000000</td>\n",
       "      <td>20.000000</td>\n",
       "      <td>20.000000</td>\n",
       "    </tr>\n",
       "    <tr>\n",
       "      <th>mean</th>\n",
       "      <td>443.500000</td>\n",
       "      <td>344.012500</td>\n",
       "      <td>336.492500</td>\n",
       "      <td>339.610000</td>\n",
       "      <td>-3.037500</td>\n",
       "      <td>12.650000</td>\n",
       "      <td>18.050000</td>\n",
       "      <td>1.749160</td>\n",
       "      <td>339.819576</td>\n",
       "      <td>0.075701</td>\n",
       "      <td>0.140030</td>\n",
       "    </tr>\n",
       "    <tr>\n",
       "      <th>std</th>\n",
       "      <td>93.317511</td>\n",
       "      <td>94.847243</td>\n",
       "      <td>93.199717</td>\n",
       "      <td>93.123388</td>\n",
       "      <td>6.319567</td>\n",
       "      <td>14.372031</td>\n",
       "      <td>23.038812</td>\n",
       "      <td>0.526414</td>\n",
       "      <td>93.054386</td>\n",
       "      <td>0.148087</td>\n",
       "      <td>0.085567</td>\n",
       "    </tr>\n",
       "    <tr>\n",
       "      <th>min</th>\n",
       "      <td>200.000000</td>\n",
       "      <td>182.190000</td>\n",
       "      <td>180.500000</td>\n",
       "      <td>183.300000</td>\n",
       "      <td>-14.940000</td>\n",
       "      <td>1.000000</td>\n",
       "      <td>1.000000</td>\n",
       "      <td>0.991700</td>\n",
       "      <td>183.885980</td>\n",
       "      <td>-0.179319</td>\n",
       "      <td>0.004028</td>\n",
       "    </tr>\n",
       "    <tr>\n",
       "      <th>25%</th>\n",
       "      <td>387.500000</td>\n",
       "      <td>302.777500</td>\n",
       "      <td>287.512500</td>\n",
       "      <td>290.737500</td>\n",
       "      <td>-7.190000</td>\n",
       "      <td>3.000000</td>\n",
       "      <td>7.000000</td>\n",
       "      <td>1.499275</td>\n",
       "      <td>291.114971</td>\n",
       "      <td>-0.048570</td>\n",
       "      <td>0.086017</td>\n",
       "    </tr>\n",
       "    <tr>\n",
       "      <th>50%</th>\n",
       "      <td>445.000000</td>\n",
       "      <td>340.655000</td>\n",
       "      <td>334.950000</td>\n",
       "      <td>338.075000</td>\n",
       "      <td>0.000000</td>\n",
       "      <td>6.500000</td>\n",
       "      <td>12.000000</td>\n",
       "      <td>1.709950</td>\n",
       "      <td>338.251233</td>\n",
       "      <td>0.102314</td>\n",
       "      <td>0.132128</td>\n",
       "    </tr>\n",
       "    <tr>\n",
       "      <th>75%</th>\n",
       "      <td>492.500000</td>\n",
       "      <td>403.712500</td>\n",
       "      <td>392.400000</td>\n",
       "      <td>395.400000</td>\n",
       "      <td>0.000000</td>\n",
       "      <td>17.000000</td>\n",
       "      <td>14.750000</td>\n",
       "      <td>1.944800</td>\n",
       "      <td>395.446222</td>\n",
       "      <td>0.146958</td>\n",
       "      <td>0.167424</td>\n",
       "    </tr>\n",
       "    <tr>\n",
       "      <th>max</th>\n",
       "      <td>600.000000</td>\n",
       "      <td>581.900000</td>\n",
       "      <td>579.850000</td>\n",
       "      <td>582.850000</td>\n",
       "      <td>10.150000</td>\n",
       "      <td>53.000000</td>\n",
       "      <td>89.000000</td>\n",
       "      <td>3.453100</td>\n",
       "      <td>583.657720</td>\n",
       "      <td>0.318665</td>\n",
       "      <td>0.318665</td>\n",
       "    </tr>\n",
       "  </tbody>\n",
       "</table>\n",
       "</div>"
      ],
      "text/plain": [
       "           Strike  Last Price         Bid         Ask     Change     Volume  \\\n",
       "count   20.000000   20.000000   20.000000   20.000000  20.000000  20.000000   \n",
       "mean   443.500000  344.012500  336.492500  339.610000  -3.037500  12.650000   \n",
       "std     93.317511   94.847243   93.199717   93.123388   6.319567  14.372031   \n",
       "min    200.000000  182.190000  180.500000  183.300000 -14.940000   1.000000   \n",
       "25%    387.500000  302.777500  287.512500  290.737500  -7.190000   3.000000   \n",
       "50%    445.000000  340.655000  334.950000  338.075000   0.000000   6.500000   \n",
       "75%    492.500000  403.712500  392.400000  395.400000   0.000000  17.000000   \n",
       "max    600.000000  581.900000  579.850000  582.850000  10.150000  53.000000   \n",
       "\n",
       "       Open Interest  Implied Volatility  Monte_Carlo     MC_Dif  abs_MC_Dif  \n",
       "count      20.000000           20.000000    20.000000  20.000000   20.000000  \n",
       "mean       18.050000            1.749160   339.819576   0.075701    0.140030  \n",
       "std        23.038812            0.526414    93.054386   0.148087    0.085567  \n",
       "min         1.000000            0.991700   183.885980  -0.179319    0.004028  \n",
       "25%         7.000000            1.499275   291.114971  -0.048570    0.086017  \n",
       "50%        12.000000            1.709950   338.251233   0.102314    0.132128  \n",
       "75%        14.750000            1.944800   395.446222   0.146958    0.167424  \n",
       "max        89.000000            3.453100   583.657720   0.318665    0.318665  "
      ]
     },
     "execution_count": 38,
     "metadata": {},
     "output_type": "execute_result"
    }
   ],
   "source": [
    "calls = calls.assign(abs_MC_Dif = abs(calls['MC_Dif']))\n",
    "MC = calls.sort_values(by = 'abs_MC_Dif').drop(['Contract Name', 'Last Trade Date', 'Black_Scholes', 'BS_Dif', 'abs_BS_Dif'], 1)\n",
    "MC.head(20).describe()"
   ]
  },
  {
   "cell_type": "code",
   "execution_count": 39,
   "metadata": {},
   "outputs": [
    {
     "data": {
      "text/html": [
       "<div>\n",
       "<style scoped>\n",
       "    .dataframe tbody tr th:only-of-type {\n",
       "        vertical-align: middle;\n",
       "    }\n",
       "\n",
       "    .dataframe tbody tr th {\n",
       "        vertical-align: top;\n",
       "    }\n",
       "\n",
       "    .dataframe thead th {\n",
       "        text-align: right;\n",
       "    }\n",
       "</style>\n",
       "<table border=\"1\" class=\"dataframe\">\n",
       "  <thead>\n",
       "    <tr style=\"text-align: right;\">\n",
       "      <th></th>\n",
       "      <th>Strike</th>\n",
       "      <th>Last Price</th>\n",
       "      <th>Bid</th>\n",
       "      <th>Ask</th>\n",
       "      <th>Change</th>\n",
       "      <th>Volume</th>\n",
       "      <th>Open Interest</th>\n",
       "      <th>Implied Volatility</th>\n",
       "      <th>Monte_Carlo</th>\n",
       "      <th>MC_Dif</th>\n",
       "      <th>abs_MC_Dif</th>\n",
       "    </tr>\n",
       "  </thead>\n",
       "  <tbody>\n",
       "    <tr>\n",
       "      <th>count</th>\n",
       "      <td>20.000000</td>\n",
       "      <td>20.000000</td>\n",
       "      <td>20.000000</td>\n",
       "      <td>20.000000</td>\n",
       "      <td>20.000000</td>\n",
       "      <td>20.000000</td>\n",
       "      <td>20.00000</td>\n",
       "      <td>20.000000</td>\n",
       "      <td>20.000000</td>\n",
       "      <td>20.000000</td>\n",
       "      <td>20.000000</td>\n",
       "    </tr>\n",
       "    <tr>\n",
       "      <th>mean</th>\n",
       "      <td>1476.000000</td>\n",
       "      <td>0.033000</td>\n",
       "      <td>0.018500</td>\n",
       "      <td>0.038000</td>\n",
       "      <td>-0.012500</td>\n",
       "      <td>121.350000</td>\n",
       "      <td>562.70000</td>\n",
       "      <td>1.489465</td>\n",
       "      <td>0.333720</td>\n",
       "      <td>88.806190</td>\n",
       "      <td>88.806190</td>\n",
       "    </tr>\n",
       "    <tr>\n",
       "      <th>std</th>\n",
       "      <td>142.048917</td>\n",
       "      <td>0.013416</td>\n",
       "      <td>0.011821</td>\n",
       "      <td>0.016092</td>\n",
       "      <td>0.020995</td>\n",
       "      <td>273.530769</td>\n",
       "      <td>1057.78687</td>\n",
       "      <td>0.174430</td>\n",
       "      <td>0.109417</td>\n",
       "      <td>1.875491</td>\n",
       "      <td>1.875491</td>\n",
       "    </tr>\n",
       "    <tr>\n",
       "      <th>min</th>\n",
       "      <td>1200.000000</td>\n",
       "      <td>0.020000</td>\n",
       "      <td>0.010000</td>\n",
       "      <td>0.020000</td>\n",
       "      <td>-0.060000</td>\n",
       "      <td>3.000000</td>\n",
       "      <td>29.00000</td>\n",
       "      <td>1.128900</td>\n",
       "      <td>0.179294</td>\n",
       "      <td>85.424488</td>\n",
       "      <td>85.424488</td>\n",
       "    </tr>\n",
       "    <tr>\n",
       "      <th>25%</th>\n",
       "      <td>1387.500000</td>\n",
       "      <td>0.020000</td>\n",
       "      <td>0.010000</td>\n",
       "      <td>0.030000</td>\n",
       "      <td>-0.022500</td>\n",
       "      <td>7.750000</td>\n",
       "      <td>139.75000</td>\n",
       "      <td>1.386700</td>\n",
       "      <td>0.264255</td>\n",
       "      <td>87.247941</td>\n",
       "      <td>87.247941</td>\n",
       "    </tr>\n",
       "    <tr>\n",
       "      <th>50%</th>\n",
       "      <td>1485.000000</td>\n",
       "      <td>0.030000</td>\n",
       "      <td>0.015000</td>\n",
       "      <td>0.030000</td>\n",
       "      <td>0.000000</td>\n",
       "      <td>14.000000</td>\n",
       "      <td>207.00000</td>\n",
       "      <td>1.507800</td>\n",
       "      <td>0.330015</td>\n",
       "      <td>88.939526</td>\n",
       "      <td>88.939526</td>\n",
       "    </tr>\n",
       "    <tr>\n",
       "      <th>75%</th>\n",
       "      <td>1581.250000</td>\n",
       "      <td>0.040000</td>\n",
       "      <td>0.020000</td>\n",
       "      <td>0.050000</td>\n",
       "      <td>0.000000</td>\n",
       "      <td>70.000000</td>\n",
       "      <td>458.75000</td>\n",
       "      <td>1.619175</td>\n",
       "      <td>0.374379</td>\n",
       "      <td>90.336087</td>\n",
       "      <td>90.336087</td>\n",
       "    </tr>\n",
       "    <tr>\n",
       "      <th>max</th>\n",
       "      <td>1700.000000</td>\n",
       "      <td>0.070000</td>\n",
       "      <td>0.050000</td>\n",
       "      <td>0.070000</td>\n",
       "      <td>0.020000</td>\n",
       "      <td>1146.000000</td>\n",
       "      <td>4751.00000</td>\n",
       "      <td>1.734400</td>\n",
       "      <td>0.550004</td>\n",
       "      <td>91.473631</td>\n",
       "      <td>91.473631</td>\n",
       "    </tr>\n",
       "  </tbody>\n",
       "</table>\n",
       "</div>"
      ],
      "text/plain": [
       "            Strike  Last Price        Bid        Ask     Change       Volume  \\\n",
       "count    20.000000   20.000000  20.000000  20.000000  20.000000    20.000000   \n",
       "mean   1476.000000    0.033000   0.018500   0.038000  -0.012500   121.350000   \n",
       "std     142.048917    0.013416   0.011821   0.016092   0.020995   273.530769   \n",
       "min    1200.000000    0.020000   0.010000   0.020000  -0.060000     3.000000   \n",
       "25%    1387.500000    0.020000   0.010000   0.030000  -0.022500     7.750000   \n",
       "50%    1485.000000    0.030000   0.015000   0.030000   0.000000    14.000000   \n",
       "75%    1581.250000    0.040000   0.020000   0.050000   0.000000    70.000000   \n",
       "max    1700.000000    0.070000   0.050000   0.070000   0.020000  1146.000000   \n",
       "\n",
       "       Open Interest  Implied Volatility  Monte_Carlo     MC_Dif  abs_MC_Dif  \n",
       "count       20.00000           20.000000    20.000000  20.000000   20.000000  \n",
       "mean       562.70000            1.489465     0.333720  88.806190   88.806190  \n",
       "std       1057.78687            0.174430     0.109417   1.875491    1.875491  \n",
       "min         29.00000            1.128900     0.179294  85.424488   85.424488  \n",
       "25%        139.75000            1.386700     0.264255  87.247941   87.247941  \n",
       "50%        207.00000            1.507800     0.330015  88.939526   88.939526  \n",
       "75%        458.75000            1.619175     0.374379  90.336087   90.336087  \n",
       "max       4751.00000            1.734400     0.550004  91.473631   91.473631  "
      ]
     },
     "execution_count": 39,
     "metadata": {},
     "output_type": "execute_result"
    }
   ],
   "source": [
    "MC.tail(20).describe()"
   ]
  },
  {
   "cell_type": "code",
   "execution_count": 40,
   "metadata": {},
   "outputs": [
    {
     "data": {
      "image/png": "[encoded data removed]",
      "text/plain": [
       "<Figure size 432x288 with 1 Axes>"
      ]
     },
     "metadata": {
      "needs_background": "light"
     },
     "output_type": "display_data"
    }
   ],
   "source": [
    "# Regression analysis: how does strike price affect our chosen accuracy metric? (dif between predictions and ask price)\n",
    "plt.scatter(calls.Strike, calls.abs_MC_Dif)\n",
    "plt.xlabel('Strike Price')\n",
    "plt.ylabel('% Difference from Ask Price')\n",
    "plt.axvline(x = spot, color = 'grey') # mark the spot price with a grey line\n",
    "plt.show()"
   ]
  },
  {
   "cell_type": "markdown",
   "metadata": {},
   "source": [
    "Predictions for ITM calls are very close to the ask price. Mostly < 10% away! Compared to the Black Scholes Model, much greater accuracy was achieved.\n",
    "Generally, the higher the strike price, the less accurate the results. This means our hypothesis about the superposition of 2 curves may be correct afterall. <br>\n",
    "Let's confirm this by plotting the accuracy for ITM vs OTM calls."
   ]
  },
  {
   "cell_type": "code",
   "execution_count": 41,
   "metadata": {},
   "outputs": [
    {
     "data": {
      "text/plain": [
       "count    61.000000\n",
       "mean      4.638942\n",
       "std       6.210757\n",
       "min      -0.440494\n",
       "25%       0.142752\n",
       "50%       0.711437\n",
       "75%       7.731688\n",
       "max      21.559084\n",
       "Name: MC_Dif, dtype: float64"
      ]
     },
     "execution_count": 41,
     "metadata": {},
     "output_type": "execute_result"
    }
   ],
   "source": [
    "# Let's look at in-the-money calls only\n",
    "ITM = calls[calls['Strike'] < spot]\n",
    "ITM.MC_Dif.describe()"
   ]
  },
  {
   "cell_type": "code",
   "execution_count": 42,
   "metadata": {},
   "outputs": [
    {
     "data": {
      "image/png": "[encoded data removed]",
      "text/plain": [
       "<Figure size 432x288 with 1 Axes>"
      ]
     },
     "metadata": {
      "needs_background": "light"
     },
     "output_type": "display_data"
    }
   ],
   "source": [
    "sns.histplot(ITM['MC_Dif'], stat = \"density\", kde = True)\n",
    "plt.xlabel(\"% Difference from Ask Price\")\n",
    "plt.show()"
   ]
  },
  {
   "cell_type": "code",
   "execution_count": 43,
   "metadata": {},
   "outputs": [
    {
     "data": {
      "text/plain": [
       "count    128.000000\n",
       "mean      69.244130\n",
       "std       18.120616\n",
       "min       22.480165\n",
       "25%       59.779079\n",
       "50%       76.243079\n",
       "75%       81.829180\n",
       "max       91.473631\n",
       "Name: MC_Dif, dtype: float64"
      ]
     },
     "execution_count": 43,
     "metadata": {},
     "output_type": "execute_result"
    }
   ],
   "source": [
    "# Look at out-of-the-money calls\n",
    "OTM = calls[calls['Strike'] > spot]\n",
    "OTM.MC_Dif.describe()"
   ]
  },
  {
   "cell_type": "code",
   "execution_count": 44,
   "metadata": {},
   "outputs": [
    {
     "data": {
      "image/png": "[encoded data removed]",
      "text/plain": [
       "<Figure size 432x288 with 1 Axes>"
      ]
     },
     "metadata": {
      "needs_background": "light"
     },
     "output_type": "display_data"
    }
   ],
   "source": [
    "sns.histplot(OTM['MC_Dif'], stat = \"density\", kde = True)\n",
    "plt.xlabel(\"% Difference from Ask Price\")\n",
    "plt.show()"
   ]
  },
  {
   "cell_type": "markdown",
   "metadata": {},
   "source": [
    "Indeed, combining the above ITM & OTM density histograms yields the two-peaked histogram for overall accuracy. <br>\n",
    "Peak 1 is formed by ITM predictions, and peak 2 is formed by OTM predictions, similar to the plot of our Black Scholes predictions. <br>"
   ]
  },
  {
   "cell_type": "code",
   "execution_count": 45,
   "metadata": {},
   "outputs": [
    {
     "data": {
      "image/png": "[encoded data removed]",
      "text/plain": [
       "<Figure size 1440x360 with 3 Axes>"
      ]
     },
     "metadata": {
      "needs_background": "light"
     },
     "output_type": "display_data"
    }
   ],
   "source": [
    "# Examine correlation between accuracy and other factors\n",
    "subScatter(calls.abs_MC_Dif, 'Monte Carlo Algorithm')"
   ]
  },
  {
   "cell_type": "markdown",
   "metadata": {},
   "source": [
    "Similar patterns can be observed (comparing to the BS model):\n",
    "- accuracy and volume are again not correlated\n",
    "- higher last transaction prices guarantees higher accuracy in this implementation, and vice versa\n",
    "- higher iv sometimes leads to higher accuracy"
   ]
  },
  {
   "cell_type": "markdown",
   "metadata": {},
   "source": [
    "Conclusion: <br>\n",
    "\n",
    "Using ask price as a benchmark, the Monte Carlo method returned accurate predictions for in the money calls. <br>\n",
    "Looking at ITM calls only, the Black Scholes model did not disappoint either, considering the unrealistic nature of the assumptions. <br>\n",
    "Neither method achieved high accuracy for OTM calls. This was expected with the BS model, but the Monte Carlo method returned less accurate predictions. "
   ]
  }
 ],
 "metadata": {
  "kernelspec": {
   "display_name": "Python 3",
   "language": "python",
   "name": "python3"
  },
  "language_info": {
   "codemirror_mode": {
    "name": "ipython",
    "version": 3
   },
   "file_extension": ".py",
   "mimetype": "text/x-python",
   "name": "python",
   "nbconvert_exporter": "python",
   "pygments_lexer": "ipython3",
   "version": "3.8.5"
  }
 },
 "nbformat": 4,
 "nbformat_minor": 4
}
